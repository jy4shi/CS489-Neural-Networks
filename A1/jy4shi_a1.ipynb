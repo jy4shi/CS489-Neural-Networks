{
 "cells": [
  {
   "cell_type": "markdown",
   "metadata": {},
   "source": [
    "# A1"
   ]
  },
  {
   "cell_type": "code",
   "execution_count": 1,
   "metadata": {
    "code_folding": []
   },
   "outputs": [],
   "source": [
    "# Standard imports\n",
    "import numpy as np\n",
    "import math\n",
    "import matplotlib.pyplot as plt\n",
    "%matplotlib inline"
   ]
  },
  {
   "cell_type": "markdown",
   "metadata": {},
   "source": [
    "### Some solutions (optional)"
   ]
  },
  {
   "cell_type": "code",
   "execution_count": 2,
   "metadata": {},
   "outputs": [],
   "source": [
    "# RUN THIS CELL ONLY IF YOU WANT TO USE THE SOLUTIONS THROUGHOUT\n",
    "from a1_solutions import *"
   ]
  },
  {
   "cell_type": "code",
   "execution_count": 3,
   "metadata": {},
   "outputs": [],
   "source": [
    "# Run this cell if you want to be able to run functions from the solutions, like this...\n",
    "# lif_a = solutions.LIFNeuron()\n",
    "import a1_solutions as solutions"
   ]
  },
  {
   "cell_type": "markdown",
   "metadata": {},
   "source": [
    "## Some supplied helper functions"
   ]
  },
  {
   "cell_type": "code",
   "execution_count": 4,
   "metadata": {
    "code_folding": []
   },
   "outputs": [],
   "source": [
    "def PlotSpikeRaster(st, y_range=[0, 1.]):\n",
    "    '''\n",
    "    PlotSpikeRaster(spiketimes, y_range=[0, 1.])\n",
    "\n",
    "    Plots a spike raster plot for a list of arrays of spike times.\n",
    "\n",
    "    Input:\n",
    "      spiketimes is a list of arrays of spike times, like that returned\n",
    "          by the function Stim2Spikes.\n",
    "      y_range is a 2-tuple that holds the y-values that the raster ticks\n",
    "          should be drawn between\n",
    "    '''\n",
    "    N = len(st)  # number of neurons\n",
    "\n",
    "    #levels = np.linspace(y_range[0], y_range[1], N+1, endpoint=True)\n",
    "    levels = np.linspace(y_range[1], y_range[0], N+1, endpoint=True)\n",
    "    labels = [[], []]\n",
    "    for n in range(N):\n",
    "        nspikes = len(st[n])\n",
    "        #y = [ [levels[n]]*nspikes , [levels[n+1]]*nspikes ]\n",
    "        y = [ [levels[n+1]]*nspikes , [levels[n]]*nspikes ]\n",
    "        #y = y_range[0] + [levels[n]]*nspikes\n",
    "        lines = plt.plot(np.vstack((st[n],st[n])), y, color=np.random.rand(3))\n",
    "        if len(lines) is not 0:\n",
    "            labels[0].append(lines[0])\n",
    "            labels[1].append(\"neur_idx {0}\".format(n))\n",
    "    plt.legend(labels[0], labels[1], loc=\"upper right\")\n",
    "    plt.ylim(y_range)\n",
    "    plt.xlabel('Time (s)')\n",
    "    return\n",
    "\n",
    "\n",
    "def GenerateSpikeTrain(rates, T, jitter=0.):\n",
    "    '''\n",
    "    spike_times = GenerateSpikeTrain(rates, T)\n",
    "    \n",
    "    Creates a spike train (as an array of time stamps).\n",
    "    \n",
    "    Input:\n",
    "    rates is an array or list of firing rates (in Hz), one\n",
    "        firing rate for each interval.\n",
    "    T is an array or list (the same size as 'rates') that gives\n",
    "        the time to end each interval\n",
    "    jitter is a scalar that determines how much the spikes\n",
    "        are randomly moved\n",
    "        \n",
    "    Output:\n",
    "    spike_times is an array of times when spikes occurred\n",
    "    \n",
    "    Example: To create a spike train of 10Hz for 0.5s, followed\n",
    "             by 25Hz that starts at 0.5s and ends at 2s, use\n",
    "             \n",
    "               GenerateSpikeTrain([10, 25], [0.5, 2])\n",
    "    '''\n",
    "    s = []\n",
    "    t = 0.\n",
    "    for idx in range(0,len(rates)):\n",
    "        Trange = T[idx] - t\n",
    "        if rates[idx]!=0:\n",
    "            delta = 1. / rates[idx]\n",
    "            N = rates[idx] * Trange\n",
    "            times = np.arange(t+delta/2., T[idx], delta)\n",
    "            times += np.random.normal(scale=delta*jitter, size=np.shape(times))\n",
    "            s.extend(times)\n",
    "        t = T[idx]\n",
    "    s.sort()\n",
    "    return np.array(s)\n",
    "\n",
    "\n",
    "class InputNeuron(object):\n",
    "    \n",
    "    def __init__(self, spiketrain):\n",
    "        '''\n",
    "        InputNeuron(spiketrain)\n",
    "        \n",
    "        Constructor for InputNeuron class.\n",
    "        \n",
    "        InputNeuron is a class of neuron that can be used to inject spikes into\n",
    "        the network. When involved in a simulation, an InputNeuron will generate\n",
    "        spikes at the times specified during its construction.\n",
    "        \n",
    "        Inputs:\n",
    "         spiketrain is an array or list of spike times\n",
    "        '''\n",
    "        self.spikes = np.array(spiketrain)\n",
    "        self.idx = []  # List index, when added to a network\n",
    "\n",
    "    def SpikesBetween(self, t_start, t_end):\n",
    "        '''\n",
    "        numspikes = InputNeuron.SpikesBetween(t_start, t_end)\n",
    "        \n",
    "        Returns the number of times the neuron spiked between t_start and t_end.\n",
    "        Specifically, it counts a spike if it occurred at t, where\n",
    "        t_start <= t < t_end\n",
    "        '''\n",
    "        sp_bool = np.logical_and( np.array(self.spikes)>=t_start, np.array(self.spikes)<t_end )\n",
    "        return np.sum(sp_bool)\n",
    "    \n",
    "    def Set_idx(self, idx):\n",
    "        self.idx = idx\n",
    "    def Get_idx(self):\n",
    "        '''\n",
    "         idx = InputNeuron.Get_idx()\n",
    "         \n",
    "         Returns the index of the neuron in its network.\n",
    "        '''\n",
    "        return self.idx\n",
    "    \n",
    "    def Slope(self):\n",
    "        return\n",
    "    \n",
    "    def Step(self, dt):\n",
    "        return\n",
    "    \n",
    "    def Get_spikes(self):\n",
    "        return self.spikes"
   ]
  },
  {
   "cell_type": "markdown",
   "metadata": {},
   "source": [
    "### Example use"
   ]
  },
  {
   "cell_type": "code",
   "execution_count": 5,
   "metadata": {},
   "outputs": [
    {
     "data": {
      "image/png": "[encoded data removed]",
      "text/plain": [
       "<Figure size 432x288 with 1 Axes>"
      ]
     },
     "metadata": {
      "needs_background": "light"
     },
     "output_type": "display_data"
    }
   ],
   "source": [
    "spikes = GenerateSpikeTrain([10, 25], [0.2, 0.5])  # Generates a specified spike train\n",
    "PlotSpikeRaster([spikes])"
   ]
  },
  {
   "cell_type": "code",
   "execution_count": 6,
   "metadata": {},
   "outputs": [
    {
     "name": "stdout",
     "output_type": "stream",
     "text": [
      "[0.05 0.15 0.22 0.26 0.3  0.34 0.38 0.42 0.46 0.5 ]\n",
      "3\n"
     ]
    }
   ],
   "source": [
    "neur_in = InputNeuron(spikes)\n",
    "print(neur_in.Get_spikes())  # Spike times\n",
    "print(neur_in.SpikesBetween(0.3,0.4)) # Number of spikes between 0.3 and 0.4"
   ]
  },
  {
   "cell_type": "markdown",
   "metadata": {},
   "source": [
    "# Q1: Implementing `LIFNeuron` Class"
   ]
  },
  {
   "cell_type": "markdown",
   "metadata": {},
   "source": [
    "## `LIFNeuron` class"
   ]
  },
  {
   "cell_type": "code",
   "execution_count": 7,
   "metadata": {
    "code_folding": []
   },
   "outputs": [],
   "source": [
    "class LIFNeuron(object):\n",
    "\n",
    "    def __init__(self, Tau_m=0.02, Tau_ref=0.002, Tau_s=0.05):\n",
    "        '''\n",
    "        LIFNeuron(Tau_m=0.02, Tau_ref=0.002, Tau_s=0.05)\n",
    "        \n",
    "        Constructor for LIFNeuron class\n",
    "        \n",
    "        Inputs:\n",
    "         Tau_m   membrane time constant, in seconds (s)\n",
    "         Tau_ref refractory period (s)\n",
    "         Tau_s   synaptic time constant (s)\n",
    "        '''\n",
    "        self.tau_m = Tau_m      # membrane time constant\n",
    "        self.tau_ref = Tau_ref  # refractory period\n",
    "        self.tau_s = Tau_s      # synaptic time constant\n",
    "        self.v = 0.             # sub-threshold membrane potential (voltage)\n",
    "        self.s = 0.             # post-synaptic current (PSC)\n",
    "        self.t = 0.             # current time\n",
    "        self.dvdt = 0.          # slope of v (w.r.t. time)\n",
    "        self.dsdt = 0.          # slope of s (w.r.t. time)\n",
    "        \n",
    "        self.idx = []           # List index, when added to a network\n",
    "        \n",
    "        self.weighted_incoming_spikes = 0.  # weighted sum of incoming spikes (for one time step)\n",
    "        self.ref_remaining = 0. # amount of time remaining in the refractory period\n",
    "        \n",
    "        # For plotting\n",
    "        self.v_history = []     # records v over time\n",
    "        self.s_history = []\n",
    "        self.spikes = []        # list of times when this neuron spiked\n",
    "        \n",
    "\n",
    "    # A bunch of set and get functions.\n",
    "    def Set_v(self, v):\n",
    "        self.v = v \n",
    "    def Get_v(self):\n",
    "        return self.v\n",
    "    def Set_s(self, s):\n",
    "        self.s = s\n",
    "    def Get_s(self):\n",
    "        return self.s\n",
    "    def Set_ref_remaining(self, ref_remaining):\n",
    "        self.ref_remaining = ref_remaining\n",
    "    def Get_ref_remaining(self):\n",
    "        return self.ref_remaining\n",
    "    def Set_idx(self, idx):\n",
    "        self.idx = idx\n",
    "    def Get_idx(self):\n",
    "        return self.idx\n",
    "    def Get_spikes(self):\n",
    "        return self.spikes\n",
    "    def Set_t(self, t):\n",
    "        self.t = t\n",
    "    def Get_v_history(self):\n",
    "        return self.v_history\n",
    "    \n",
    "    def SpikesBetween(self, t_start, t_end):\n",
    "        '''\n",
    "        numspikes = LIFNeuron.SpikesBetween(t_start, t_end)\n",
    "        \n",
    "        Returns the number of times the neuron spiked between t_start and t_end.\n",
    "        Specifically, it counts a spike if it occurred at t, where\n",
    "        t_start <= t < t_end\n",
    "        '''\n",
    "        sp_bool = np.logical_and( np.array(self.spikes)>=t_start, np.array(self.spikes)<t_end )\n",
    "        return np.sum(sp_bool)\n",
    "    \n",
    "    def Slope(self):\n",
    "        '''\n",
    "        LIFNeuron.Slope()\n",
    "        \n",
    "        Evaluates the right-hand side of the differential equations that\n",
    "        govern v and s. The slopes get stored in the internal variables\n",
    "          self.dvdt, and\n",
    "          self.dsdt\n",
    "        '''\n",
    "        #===== REPLACE THE CODE BELOW =====\n",
    "        self.dvdt = (self.s-self.v)/self.tau_m\n",
    "        self.dsdt = -self.s/self.tau_s\n",
    "        \n",
    "        \n",
    "    def Step(self, dt):\n",
    "        '''\n",
    "        LIFNeuron.Step(dt)\n",
    "        \n",
    "        Updates the LIF neuron state by taking an Euler step in v and s.\n",
    "        The length of the step is dt seconds.\n",
    "        If v reaches the threshold of 1, the neuron fires an action potential\n",
    "        (spike). Linear interpolation should be used to estimate the time that v=1.\n",
    "        The spike time is appended to the list self.spikes, and v\n",
    "        is set to zero. After a spike, the neuron is dormant for self.tau_ref\n",
    "        seconds.\n",
    "        \n",
    "        '''\n",
    "        #==== PLACE YOUR CODE HERE ====\n",
    "            \n",
    "        self.s += dt*self.dsdt\n",
    "\n",
    "        if dt > self.ref_remaining:\n",
    "            self.t += self.ref_remaining\n",
    "            dt -= self.ref_remaining\n",
    "            self.ref_remaining = 0.\n",
    "            self.v += dt*self.dvdt\n",
    "            if self.v >= 1:\n",
    "                spike_time = self.t + dt - (self.v - 1)/self.dvdt\n",
    "                self.spikes.append(spike_time)\n",
    "                self.ref_remaining = self.tau_ref - (self.v - 1)/self.dvdt\n",
    "                self.v = 1\n",
    "        else:\n",
    "            self.v = 0\n",
    "            self.ref_remaining -= dt\n",
    "        \n",
    "        self.t += dt\n",
    "        self.s += self.weighted_incoming_spikes/self.tau_s\n",
    "        \n",
    "        # Store v and s (for plotting), and reset incoming spike accumulator\n",
    "        self.v_history.append(self.v)\n",
    "        self.s_history.append(self.s)\n",
    "        self.weighted_incoming_spikes = 0.\n",
    "        \n",
    "        \n",
    "        \n",
    "    def ReceiveSpike(self, w):\n",
    "        '''\n",
    "        LIFNeuron.ReceiveSpike(w)\n",
    "        \n",
    "        Registers the arrival of a spike from a presynaptic neuron. The\n",
    "        member variable self.weighted_incoming_spikes keeps track of all\n",
    "        the incoming spikes, each weighted by their respective connection\n",
    "        weights. It is sufficient to add them all together to tabulate the\n",
    "        total incoming weighted spikes (from all presynaptic neurons).\n",
    "        \n",
    "        Input:\n",
    "         w    is the connection weight from the presynaptic neuron.\n",
    "        '''\n",
    "        self.weighted_incoming_spikes += w\n",
    "        \n",
    "        \n",
    "    def ShowState(self):\n",
    "        '''\n",
    "         LIFNeuron.ShowState()\n",
    "         \n",
    "         Prints the current time, membrane potential, input current, and\n",
    "         remaining refractory time.\n",
    "        '''\n",
    "        print('{0:6.4f}s: s={1:5.3f}, v={2:6.4f}, ref remaining={3:7.5f}'.format(self.t, self.s, self.v, self.ref_remaining))\n"
   ]
  },
  {
   "cell_type": "markdown",
   "metadata": {},
   "source": [
    "## Tests"
   ]
  },
  {
   "cell_type": "markdown",
   "metadata": {},
   "source": [
    "The test below should yield,\n",
    "\n",
    "    0.0000s: s=0.000, v=0.0000, ref remaining=0.00000\n",
    "    0.0010s: s=0.600, v=0.0000, ref remaining=0.00000\n",
    "    0.0020s: s=0.588, v=0.0300, ref remaining=0.00000"
   ]
  },
  {
   "cell_type": "code",
   "execution_count": 8,
   "metadata": {},
   "outputs": [
    {
     "name": "stdout",
     "output_type": "stream",
     "text": [
      "0.0000s: s=0.000, v=0.0000, ref remaining=0.00000\n",
      "0.0010s: s=0.600, v=0.0000, ref remaining=0.00000\n",
      "0.0020s: s=0.588, v=0.0300, ref remaining=0.00000\n"
     ]
    }
   ],
   "source": [
    "lif_a = LIFNeuron(Tau_m=0.02, Tau_ref=0.002, Tau_s=0.05)\n",
    "\n",
    "# If you want to run the version from the supplied solutions, use\n",
    "# the line below instead.\n",
    "#lif_a = solutions.LIFNeuron(Tau_m=0.02, Tau_ref=0.002, Tau_s=0.05)\n",
    "\n",
    "lif_a.ReceiveSpike(0.03)\n",
    "lif_a.ShowState()\n",
    "lif_a.Slope()\n",
    "lif_a.Step(0.001)\n",
    "lif_a.ShowState()\n",
    "lif_a.Slope()\n",
    "lif_a.Step(0.001)\n",
    "lif_a.ShowState()"
   ]
  },
  {
   "cell_type": "markdown",
   "metadata": {},
   "source": [
    "================================================================"
   ]
  },
  {
   "cell_type": "markdown",
   "metadata": {},
   "source": [
    "The test below should yield,\n",
    "\n",
    "    0.0000s: s=0.500, v=0.0000, ref remaining=0.00150\n",
    "    0.0010s: s=0.490, v=0.0000, ref remaining=0.00050\n",
    "    0.0020s: s=0.480, v=0.0123, ref remaining=0.00000"
   ]
  },
  {
   "cell_type": "code",
   "execution_count": 9,
   "metadata": {},
   "outputs": [
    {
     "name": "stdout",
     "output_type": "stream",
     "text": [
      "0.0000s: s=0.500, v=0.0000, ref remaining=0.00150\n",
      "0.0010s: s=0.490, v=0.0000, ref remaining=0.00050\n",
      "0.0020s: s=0.480, v=0.0123, ref remaining=0.00000\n"
     ]
    }
   ],
   "source": [
    "lif_a = LIFNeuron(Tau_m=0.02, Tau_ref=0.002, Tau_s=0.05)\n",
    "lif_a.Set_v(0.)\n",
    "lif_a.Set_s(0.5)\n",
    "lif_a.Set_ref_remaining(0.0015)\n",
    "lif_a.ShowState()\n",
    "lif_a.Slope(); lif_a.Step(0.001)\n",
    "lif_a.ShowState()\n",
    "lif_a.Slope(); lif_a.Step(0.001)\n",
    "lif_a.ShowState()"
   ]
  },
  {
   "cell_type": "markdown",
   "metadata": {},
   "source": [
    "================================================================"
   ]
  },
  {
   "cell_type": "markdown",
   "metadata": {},
   "source": [
    "The test below should yield,\n",
    "\n",
    "    0.3000s: s=1.300, v=0.9800, ref remaining=0.00000\n",
    "    0.3010s: s=1.274, v=0.9960, ref remaining=0.00000\n",
    "    0.3020s: s=1.249, v=1.0000, ref remaining=0.00129\n",
    "    0.3030s: s=1.224, v=0.0000, ref remaining=0.00029\n",
    "    0.3040s: s=1.199, v=0.0436, ref remaining=0.00000\n",
    "    Spike occurred at 0.30129 seconds"
   ]
  },
  {
   "cell_type": "code",
   "execution_count": 10,
   "metadata": {},
   "outputs": [
    {
     "name": "stdout",
     "output_type": "stream",
     "text": [
      "0.3000s: s=1.300, v=0.9800, ref remaining=0.00000\n",
      "0.3010s: s=1.274, v=0.9960, ref remaining=0.00000\n",
      "0.3020s: s=1.249, v=1.0000, ref remaining=0.00129\n",
      "0.3030s: s=1.224, v=0.0000, ref remaining=0.00029\n",
      "0.3040s: s=1.199, v=0.0436, ref remaining=0.00000\n",
      "Spike occurred at 0.30129 seconds\n"
     ]
    }
   ],
   "source": [
    "lif_a = LIFNeuron(Tau_m=0.02, Tau_ref=0.002, Tau_s=0.05)\n",
    "lif_a.Set_t(0.3)\n",
    "lif_a.Set_v(0.98)\n",
    "lif_a.Set_s(1.3)\n",
    "dt = 0.001\n",
    "lif_a.ShowState()\n",
    "lif_a.Slope(); lif_a.Step(dt); lif_a.ShowState()\n",
    "lif_a.Slope(); lif_a.Step(dt); lif_a.ShowState()\n",
    "lif_a.Slope(); lif_a.Step(dt); lif_a.ShowState()\n",
    "lif_a.Slope(); lif_a.Step(dt); lif_a.ShowState()\n",
    "if len(lif_a.Get_spikes())>0:\n",
    "    print('Spike occurred at {0:.5g} seconds'.format(lif_a.Get_spikes()[-1]))"
   ]
  },
  {
   "cell_type": "markdown",
   "metadata": {},
   "source": [
    "================================================================"
   ]
  },
  {
   "cell_type": "markdown",
   "metadata": {},
   "source": [
    "# Q2: Implementing `SpikingNetwork`"
   ]
  },
  {
   "cell_type": "markdown",
   "metadata": {},
   "source": [
    "## `SpikingNetwork` Class"
   ]
  },
  {
   "cell_type": "code",
   "execution_count": 11,
   "metadata": {},
   "outputs": [],
   "source": [
    "class SpikingNetwork(object):\n",
    "    \n",
    "    def __init__(self):\n",
    "        '''\n",
    "        SpikingNetwork()\n",
    "        \n",
    "        Constructor for SpikingNetwork class.\n",
    "        \n",
    "        The SpikingNetwork class contains a collection of neurons,\n",
    "        and the connections between those neurons.\n",
    "        '''\n",
    "        self.neurons = []      # List of neurons (of various kinds)\n",
    "        self.connections = []  # List of connections\n",
    "        self.t_history = []    # List of time stamps for the Euler steps\n",
    "                               # (Useful for plotting)\n",
    "        \n",
    "    def GetNeuron(self, idx):\n",
    "        '''\n",
    "         neur = SpikingNetwork.GetNeuron(idx)\n",
    "         \n",
    "         Returns the Neuron object at index idx.\n",
    "        '''\n",
    "        return self.neurons[idx]\n",
    "    \n",
    "    def GetConnection(self, c):\n",
    "        '''\n",
    "         con = SpikingNetwork.GetConnection(c)\n",
    "        '''\n",
    "        return self.connections[c]\n",
    "    \n",
    "    def AddNeuron(self, neur):\n",
    "        '''\n",
    "        SpikingNetwork.AddNeuron(neuron)\n",
    "        \n",
    "        Adds a neuron to the network.\n",
    "        \n",
    "        Input:\n",
    "         neuron is an object of type LIFNeuron or InputNeuron\n",
    "        '''\n",
    "        self.neurons.append(neur)\n",
    "        neur.idx = len(self.neurons)-1\n",
    "        \n",
    "    def Connect(self, pre, post, w):\n",
    "        '''\n",
    "        SpikingNetwork.Connect(pre, post, w)\n",
    "        \n",
    "        Connects neuron 'pre' to neuron 'post' with a connection\n",
    "        weigth of w.\n",
    "        \n",
    "        Each \"connection\" is stored as a list of 3 numbers of the form:\n",
    "         [ pre_idx, post_idx, weight ]\n",
    "        where\n",
    "         pre_idx is the list index of the pre-synaptic neuron,\n",
    "         post_idx is the list index of the post-synaptic neuron, and\n",
    "         weight is the connection weight.\n",
    "        eg. self.connections = [[0,1,0.05], [1,2,0.04], [1,0,-0.2]]\n",
    "        '''\n",
    "        self.connections.append([pre, post, w])\n",
    "        \n",
    "        \n",
    "    def Simulate(self, T, dt):\n",
    "        '''\n",
    "        SpikingNetwork.Simulate(T, dt)\n",
    "        \n",
    "        Simulates the network for T seconds by taking Euler steps\n",
    "        of size dt.\n",
    "        \n",
    "        Inputs:\n",
    "         T    how long to integrate for\n",
    "         dt   time step for Euler's method\n",
    "        '''\n",
    "        \n",
    "        # This code takes care of recording time samples in a way\n",
    "        # that allows continuation. You needn't fuss over this code.\n",
    "        current = 0 if len(self.t_history)==0 else self.t_history[-1]\n",
    "        t_segment = np.arange(current, current+T, dt)\n",
    "        \n",
    "        \n",
    "        #==== HERE IS WHERE YOUR CODE STARTS ====\n",
    "        \n",
    "        # Loop over time steps (I've set that up for you)\n",
    "        for tt in t_segment:\n",
    "            self.t_history.append(tt)  # Record time stamp\n",
    "            \n",
    "            \n",
    "        #==== PLACE YOUR CODE HERE ====\n",
    "            for nn in self.neurons:\n",
    "                nn.Slope()\n",
    "                nn.Step(dt)\n",
    "            \n",
    "            for cc in self.connections:\n",
    "                pre_s = self.GetNeuron(cc[0])\n",
    "                post_s = self.GetNeuron(cc[1])\n",
    "                num_of_pre_s_spikes = pre_s.SpikesBetween(tt, tt+dt)\n",
    "                post_s.ReceiveSpike(num_of_pre_s_spikes*cc[2])\n",
    "            \n",
    "        return\n",
    "\n",
    "\n",
    "        \n",
    "    def AllSpikeTimes(self):\n",
    "        '''\n",
    "        SpikingNetwork.AllSpikeTimes()\n",
    "        \n",
    "        Returns all the spikes of all the neurons in the network.\n",
    "        Useful for making spike-raster plots of network activity.\n",
    "        \n",
    "        Output:\n",
    "         all_spikes  a list of sublists, where each sublist holds\n",
    "                     the spike times of one of the neurons\n",
    "        '''\n",
    "        blah = []\n",
    "        for neur in self.neurons:\n",
    "            blah.append(np.array(neur.Get_spikes()))\n",
    "        return blah"
   ]
  },
  {
   "cell_type": "markdown",
   "metadata": {},
   "source": [
    "### Test"
   ]
  },
  {
   "cell_type": "code",
   "execution_count": 12,
   "metadata": {},
   "outputs": [],
   "source": [
    "# This will create a small network to test on. This network is shown in Fig. 1(a).\n",
    "net = SpikingNetwork()\n",
    "A = LIFNeuron(Tau_s=0.1)  # Create a LIF neuron\n",
    "in1 = InputNeuron( GenerateSpikeTrain([30], [1]) )  # Create an input neuron\n",
    "\n",
    "net.AddNeuron(A)  # Neuron 0 (uses default values for tau_m and tau_ref)\n",
    "net.AddNeuron(in1)  # Input neuron generates 30 Hz spike train\n",
    "net.Connect(in1.Get_idx(), A.Get_idx(), 0.05)  # Connection from neuron 1 to neuron 0\n",
    "\n",
    "net.Simulate(1, 0.001) # Simulate for 1 second"
   ]
  },
  {
   "cell_type": "code",
   "execution_count": 13,
   "metadata": {},
   "outputs": [
    {
     "data": {
      "image/png": "[encoded data removed]",
      "text/plain": [
       "<Figure size 432x288 with 1 Axes>"
      ]
     },
     "metadata": {
      "needs_background": "light"
     },
     "output_type": "display_data"
    }
   ],
   "source": [
    "# Plot the membrane potential of net.neuron[0]\n",
    "plt.plot(net.t_history, net.GetNeuron(0).Get_v_history());\n",
    "plt.xlabel('Time (s)')\n",
    "plt.ylabel('Membrane Potential');"
   ]
  },
  {
   "cell_type": "code",
   "execution_count": 14,
   "metadata": {
    "scrolled": true
   },
   "outputs": [
    {
     "data": {
      "image/png": "[encoded data removed]",
      "text/plain": [
       "<Figure size 432x288 with 1 Axes>"
      ]
     },
     "metadata": {
      "needs_background": "light"
     },
     "output_type": "display_data"
    }
   ],
   "source": [
    "# Plot the spike rasters for all the neurons in the network.\n",
    "PlotSpikeRaster( net.AllSpikeTimes() )"
   ]
  },
  {
   "cell_type": "markdown",
   "metadata": {},
   "source": [
    "# Q3: Experiments with Spiking Networks"
   ]
  },
  {
   "cell_type": "markdown",
   "metadata": {},
   "source": [
    "## (a) LIF Firing Rate Curve"
   ]
  },
  {
   "cell_type": "code",
   "execution_count": 15,
   "metadata": {},
   "outputs": [
    {
     "data": {
      "image/png": "[encoded data removed]",
      "text/plain": [
       "<Figure size 432x288 with 1 Axes>"
      ]
     },
     "metadata": {
      "needs_background": "light"
     },
     "output_type": "display_data"
    },
    {
     "data": {
      "image/png": "[encoded data removed]",
      "text/plain": [
       "<Figure size 432x288 with 1 Axes>"
      ]
     },
     "metadata": {
      "needs_background": "light"
     },
     "output_type": "display_data"
    }
   ],
   "source": [
    "# i.\n",
    "net = SpikingNetwork()\n",
    "A = LIFNeuron(Tau_m=0.02, Tau_ref=0.002, Tau_s=0.1)  # LIF neuron A\n",
    "\n",
    "Hz_in_list = np.arange(1, 21)*5\n",
    "s_list = np.arange(1, 21)*2\n",
    "\n",
    "in1 = InputNeuron( GenerateSpikeTrain(Hz_in_list, s_list) )  # Create an input neuron\n",
    "\n",
    "net.AddNeuron(A)  # Neuron 0\n",
    "net.AddNeuron(in1)  # Input neuron generates spike train, Neuron 1\n",
    "net.Connect(in1.Get_idx(), A.Get_idx(), 0.03)  # Connection from neuron 1 to neuron 0\n",
    "\n",
    "net.Simulate(s_list[-1], 0.001) # Simulate for 40 second\n",
    "\n",
    "# Plot the membrane potential of net.neuron[0]\n",
    "plt.plot(net.t_history, net.GetNeuron(0).Get_v_history());\n",
    "plt.xlabel('Time (s)')\n",
    "plt.ylabel('Membrane Potential');\n",
    "plt.show()\n",
    "\n",
    "# Plot the spike rasters for all the neurons in the network.\n",
    "PlotSpikeRaster( net.AllSpikeTimes() )\n",
    "plt.show()"
   ]
  },
  {
   "cell_type": "code",
   "execution_count": 16,
   "metadata": {},
   "outputs": [
    {
     "name": "stdout",
     "output_type": "stream",
     "text": [
      "Time Interval 0s - 2s: 0 spikes\n",
      "Time Interval 2s - 4s: 0 spikes\n",
      "Time Interval 4s - 6s: 0 spikes\n",
      "Time Interval 6s - 8s: 0 spikes\n",
      "Time Interval 8s - 10s: 0 spikes\n",
      "Time Interval 10s - 12s: 0 spikes\n",
      "Time Interval 12s - 14s: 30 spikes\n",
      "Time Interval 14s - 16s: 52 spikes\n",
      "Time Interval 16s - 18s: 73 spikes\n",
      "Time Interval 18s - 20s: 87 spikes\n",
      "Time Interval 20s - 22s: 99 spikes\n",
      "Time Interval 22s - 24s: 112 spikes\n",
      "Time Interval 24s - 26s: 125 spikes\n",
      "Time Interval 26s - 28s: 137 spikes\n",
      "Time Interval 28s - 30s: 149 spikes\n",
      "Time Interval 30s - 32s: 160 spikes\n",
      "Time Interval 32s - 34s: 170 spikes\n",
      "Time Interval 34s - 36s: 180 spikes\n",
      "Time Interval 36s - 38s: 190 spikes\n",
      "Time Interval 38s - 40s: 199 spikes\n",
      "[0, 0, 0, 0, 0, 0, 30, 52, 73, 87, 99, 112, 125, 137, 149, 160, 170, 180, 190, 199]\n"
     ]
    }
   ],
   "source": [
    "# ii.\n",
    "Simulated_LIF = net.GetNeuron(A.Get_idx())\n",
    "t_interval = np.arange(0, 21)*2\n",
    "Spikes_out_list = []\n",
    "for idx in range(len(t_interval)-1):\n",
    "    num_of_spikes = Simulated_LIF.SpikesBetween(t_interval[idx], t_interval[idx+1])\n",
    "    Spikes_out_list.append(num_of_spikes)\n",
    "    print('Time Interval {0}s - {1}s: {2} spikes'\n",
    "          .format(t_interval[idx], t_interval[idx+1], num_of_spikes))\n",
    "print(Spikes_out_list)"
   ]
  },
  {
   "cell_type": "code",
   "execution_count": 17,
   "metadata": {},
   "outputs": [
    {
     "data": {
      "image/png": "[encoded data removed]",
      "text/plain": [
       "<Figure size 432x288 with 1 Axes>"
      ]
     },
     "metadata": {
      "needs_background": "light"
     },
     "output_type": "display_data"
    }
   ],
   "source": [
    "# iii.\n",
    "# To get Hz out, divide the number of spikes by 2 for each time interval\n",
    "Hz_out_list = [interval/2 for interval in Spikes_out_list]\n",
    "plt.plot(Hz_in_list, Hz_out_list, 'bo')\n",
    "plt.xlabel('Input Firing Rate (Hz)')\n",
    "plt.ylabel('Firing Rate (Hz)');"
   ]
  },
  {
   "cell_type": "markdown",
   "metadata": {},
   "source": [
    "## (b) Two LIF Neurons"
   ]
  },
  {
   "cell_type": "code",
   "execution_count": 18,
   "metadata": {},
   "outputs": [],
   "source": [
    "# i.\n",
    "net = SpikingNetwork()\n",
    "in1 = InputNeuron( GenerateSpikeTrain([30, 0], [0.3, 2]) )  # Create an input neuron\n",
    "A = LIFNeuron(Tau_m=0.02, Tau_ref=0.002, Tau_s=0.05)  # LIF neuron A\n",
    "B = LIFNeuron(Tau_m=0.02, Tau_ref=0.002, Tau_s=0.05)  # LIF neuron B\n",
    "\n",
    "\n",
    "net.AddNeuron(in1)  # Input neuron, Neuron 0 \n",
    "net.AddNeuron(A)  # LIF neuron A, Neuron 1\n",
    "net.AddNeuron(B)  # LIF neuron B, Neuron 2\n",
    "\n",
    "net.Connect(in1.Get_idx(), A.Get_idx(), 0.05)  # Connection from neuron 0 to neuron 1\n",
    "net.Connect(A.Get_idx(), B.Get_idx(), 0.05)  # Connection from neuron 1 to neuron 2\n",
    "net.Connect(B.Get_idx(), A.Get_idx(), 0.05)  # Connection from neuron 2 to neuron 1\n"
   ]
  },
  {
   "cell_type": "code",
   "execution_count": 19,
   "metadata": {},
   "outputs": [
    {
     "data": {
      "image/png": "[encoded data removed]",
      "text/plain": [
       "<Figure size 432x288 with 1 Axes>"
      ]
     },
     "metadata": {
      "needs_background": "light"
     },
     "output_type": "display_data"
    },
    {
     "data": {
      "image/png": "[encoded data removed]",
      "text/plain": [
       "<Figure size 432x288 with 1 Axes>"
      ]
     },
     "metadata": {
      "needs_background": "light"
     },
     "output_type": "display_data"
    },
    {
     "data": {
      "image/png": "[encoded data removed]",
      "text/plain": [
       "<Figure size 432x288 with 1 Axes>"
      ]
     },
     "metadata": {
      "needs_background": "light"
     },
     "output_type": "display_data"
    }
   ],
   "source": [
    "# ii.\n",
    "\n",
    "net.Simulate(2, 0.001) # Simulate for 2 seconds\n",
    "\n",
    "# Plot the membrane potential of all neurons in net\n",
    "for neuron in net.neurons:\n",
    "    if type(neuron) is InputNeuron:\n",
    "        continue\n",
    "    else:\n",
    "        plt.plot(net.t_history, net.GetNeuron(neuron.Get_idx()).Get_v_history());\n",
    "    plt.title(\"Neuron index: {0}\".format(neuron.Get_idx()))\n",
    "    plt.xlabel('Time (s)')\n",
    "    plt.ylabel('Membrane Potential (v)');\n",
    "    plt.show()\n",
    "\n",
    "\n",
    "# Plot the spike rasters for all the neurons in the network.\n",
    "PlotSpikeRaster( net.AllSpikeTimes() )\n",
    "plt.show()"
   ]
  },
  {
   "cell_type": "markdown",
   "metadata": {},
   "source": [
    "## (c) Three LIF Neurons: Inhibition"
   ]
  },
  {
   "cell_type": "code",
   "execution_count": 20,
   "metadata": {},
   "outputs": [],
   "source": [
    "# i.\n",
    "net = SpikingNetwork()\n",
    "in1 = InputNeuron( GenerateSpikeTrain([30, 0], [0.3, 1.5]) )  # Input neuron 1\n",
    "A = LIFNeuron(Tau_m=0.02, Tau_ref=0.002, Tau_s=0.05)  # LIF neuron A\n",
    "B = LIFNeuron(Tau_m=0.02, Tau_ref=0.002, Tau_s=0.05)  # LIF neuron B\n",
    "C = LIFNeuron(Tau_m=0.02, Tau_ref=0.002, Tau_s=0.05)  # LIF neuron C\n",
    "in2 = InputNeuron( GenerateSpikeTrain([0, 50], [0.7, 1]) )  # Input neuron 2\n",
    "\n",
    "net.AddNeuron(in1)  # Input neuron 1, Neuron 0 \n",
    "net.AddNeuron(A)  # LIF neuron A, Neuron 1\n",
    "net.AddNeuron(B)  # LIF neuron B, Neuron 2\n",
    "net.AddNeuron(C)  # LIF neuron C, Neuron 3\n",
    "net.AddNeuron(in2)  # Input neuron 2, Neuron 4 \n",
    "\n",
    "net.Connect(in1.Get_idx(), A.Get_idx(), 0.05)  # Connection from neuron 0 to neuron 1\n",
    "net.Connect(A.Get_idx(), B.Get_idx(), 0.05)  # Connection from neuron 1 to neuron 2\n",
    "net.Connect(B.Get_idx(), A.Get_idx(), 0.05)  # Connection from neuron 2 to neuron 1\n",
    "net.Connect(C.Get_idx(), B.Get_idx(), -0.2)  # Connection from neuron 3 to neuron 2\n",
    "net.Connect(in2.Get_idx(), C.Get_idx(), 0.05)  # Connection from neuron 4 to neuron 3"
   ]
  },
  {
   "cell_type": "code",
   "execution_count": 21,
   "metadata": {},
   "outputs": [
    {
     "data": {
      "image/png": "[encoded data removed]",
      "text/plain": [
       "<Figure size 432x288 with 1 Axes>"
      ]
     },
     "metadata": {
      "needs_background": "light"
     },
     "output_type": "display_data"
    }
   ],
   "source": [
    "# ii.\n",
    "net.Simulate(1.5, 0.001) # Simulate for 1.5 seconds\n",
    "\n",
    "# Plot the spike rasters for all the neurons in the network.\n",
    "PlotSpikeRaster( net.AllSpikeTimes() )\n",
    "plt.show()"
   ]
  },
  {
   "cell_type": "markdown",
   "metadata": {},
   "source": [
    "### iii."
   ]
  },
  {
   "cell_type": "markdown",
   "metadata": {},
   "source": [
    "The firing rates of neurons A and B started decreasing as input neuron 2 started sending spikes to neuron C at 0.7s,\n",
    "\n",
    "The spikes from Input neuron 2 activated neuron C, which started sending spikes to neuron B, since the connection between neurons C and B was inhibitory, the firing rates of both neurons A and B started to decrease (eventually stopped at 1s)."
   ]
  },
  {
   "cell_type": "markdown",
   "metadata": {},
   "source": [
    "## (d) Ring Oscillator"
   ]
  },
  {
   "cell_type": "code",
   "execution_count": 22,
   "metadata": {},
   "outputs": [],
   "source": [
    "# i.\n",
    "net = SpikingNetwork()\n",
    "\n",
    "for neur in range(8):   # LIF neuron 0, 1, ..., 7\n",
    "    net.AddNeuron(LIFNeuron(Tau_m=0.05, Tau_ref=0.002, Tau_s=0.1))\n",
    "\n",
    "for ab in range(7):    \n",
    "    net.Connect(ab, ab+1, 0.2)\n",
    "net.Connect(7, 0, 0.2)\n"
   ]
  },
  {
   "cell_type": "code",
   "execution_count": 23,
   "metadata": {},
   "outputs": [],
   "source": [
    "# ii.\n",
    "for ba in range(7):\n",
    "    net.Connect(ba+1, ba, -0.4)\n",
    "net.Connect(0, 7, -0.4)"
   ]
  },
  {
   "cell_type": "code",
   "execution_count": 24,
   "metadata": {},
   "outputs": [],
   "source": [
    "# iii.\n",
    "in_neur = InputNeuron( GenerateSpikeTrain([25, 0], [0.3, 5]) )  # Input neuron, neuron 8\n",
    "net.AddNeuron(in_neur)\n",
    "net.Connect(8, 0, 0.2)"
   ]
  },
  {
   "cell_type": "code",
   "execution_count": 25,
   "metadata": {
    "scrolled": false
   },
   "outputs": [
    {
     "data": {
      "image/png": "[encoded data removed]",
      "text/plain": [
       "<Figure size 432x288 with 1 Axes>"
      ]
     },
     "metadata": {
      "needs_background": "light"
     },
     "output_type": "display_data"
    }
   ],
   "source": [
    "# iv.\n",
    "net.Simulate(4, 0.001) # Simulate for 4 seconds\n",
    "\n",
    "# Plot the spike rasters for all the neurons in the network.\n",
    "PlotSpikeRaster( net.AllSpikeTimes() )\n",
    "plt.show()"
   ]
  },
  {
   "cell_type": "code",
   "execution_count": 26,
   "metadata": {},
   "outputs": [
    {
     "name": "stdout",
     "output_type": "stream",
     "text": [
      "Neuron 0: In 3.77s, it went through 10 bursts, average time per burst is 0.38s.\n",
      "Neuron 1: In 3.79s, it went through 10 bursts, average time per burst is 0.38s.\n",
      "Neuron 2: In 3.81s, it went through 10 bursts, average time per burst is 0.38s.\n",
      "Neuron 3: In 3.83s, it went through 10 bursts, average time per burst is 0.38s.\n",
      "Neuron 4: In 3.82s, it went through 10 bursts, average time per burst is 0.38s.\n",
      "Neuron 5: In 3.48s, it went through 9 bursts, average time per burst is 0.39s.\n",
      "Neuron 6: In 3.49s, it went through 9 bursts, average time per burst is 0.39s.\n",
      "Neuron 7: In 3.22s, it went through 8 bursts, average time per burst is 0.40s.\n"
     ]
    }
   ],
   "source": [
    "# v.\n",
    "for lif_neur_idx in range(8):\n",
    "    neur = net.GetNeuron(lif_neur_idx)\n",
    "    spike_list = neur.Get_spikes()\n",
    "    num_of_bursts = 0\n",
    "    for spike_idx in range(len(spike_list)-1):\n",
    "        if spike_list[spike_idx+1] - spike_list[spike_idx] > 0.1:\n",
    "            num_of_bursts += 1\n",
    "    print(\"Neuron {0}: In {1:.2f}s, it went through {2} bursts, average time per burst is {3:.2f}s.\"\n",
    "          .format(lif_neur_idx, spike_list[-1]-spike_list[0], num_of_bursts,\n",
    "                 (spike_list[-1]-spike_list[0])/num_of_bursts))"
   ]
  },
  {
   "cell_type": "markdown",
   "metadata": {},
   "source": [
    "=== YOUR ANSWER HERE ===\n",
    "\n",
    "It takes about 0.4s for the wave of activity to go around the ring."
   ]
  },
  {
   "cell_type": "markdown",
   "metadata": {},
   "source": [
    "# Q4: Neural Activation Functions"
   ]
  },
  {
   "cell_type": "markdown",
   "metadata": {},
   "source": [
    "## (a) ReLU derivative"
   ]
  },
  {
   "cell_type": "markdown",
   "metadata": {},
   "source": [
    "\\begin{align}\n",
    "f(x) &= ReLU(x) \\\\\n",
    "&= max(0, x) \\\\\n",
    "&= \n",
    "    \\begin{cases}\n",
    "        0 &\\quad\\text{if }x\\le0\\\\\n",
    "        x &\\quad\\text{if }x\\ge0\\\\\n",
    "    \\end{cases} \n",
    "    \\\\\n",
    "f'(x) &=\n",
    "    \\begin{cases}\n",
    "        0 &\\quad\\text{if }x<0\\\\\n",
    "        \\text{Not differentiable} &\\quad\\text{if }x=0\\\\\n",
    "        1 &\\quad\\text{if }x>0\\\\\n",
    "    \\end{cases} \n",
    "    \\\\\n",
    "\\end{align}\n"
   ]
  },
  {
   "cell_type": "code",
   "execution_count": null,
   "metadata": {},
   "outputs": [],
   "source": []
  },
  {
   "cell_type": "code",
   "execution_count": 27,
   "metadata": {},
   "outputs": [],
   "source": [
    "from sympy.interactive import printing\n",
    "import sympy as sp\n",
    "from sympy.utilities.lambdify import lambdify, implemented_function\n",
    "\n",
    "printing.init_printing(use_latex=True)"
   ]
  },
  {
   "cell_type": "markdown",
   "metadata": {},
   "source": [
    "## (b.i) Logistic"
   ]
  },
  {
   "cell_type": "code",
   "execution_count": 28,
   "metadata": {},
   "outputs": [
    {
     "name": "stdout",
     "output_type": "stream",
     "text": [
      "Standard logistic function:\n"
     ]
    },
    {
     "data": {
      "image/png": "[encoded data removed]",
      "text/latex": [
       "$\\displaystyle \\sigma{\\left(z \\right)} = \\frac{1}{1 + e^{- z}}$"
      ],
      "text/plain": [
       "          1   \n",
       "σ(z) = ───────\n",
       "            -z\n",
       "       1 + ℯ  "
      ]
     },
     "metadata": {},
     "output_type": "display_data"
    },
    {
     "data": {
      "image/png": "[encoded data removed]",
      "text/plain": [
       "<Figure size 432x288 with 1 Axes>"
      ]
     },
     "metadata": {
      "needs_background": "light"
     },
     "output_type": "display_data"
    },
    {
     "data": {
      "image/png": "[encoded data removed]",
      "text/latex": [
       "$\\displaystyle \\frac{d}{d z} \\sigma{\\left(z \\right)}$"
      ],
      "text/plain": [
       "d       \n",
       "──(σ(z))\n",
       "dz      "
      ]
     },
     "metadata": {},
     "output_type": "display_data"
    },
    {
     "data": {
      "image/png": "[encoded data removed]",
      "text/plain": [
       "<Figure size 432x288 with 1 Axes>"
      ]
     },
     "metadata": {
      "needs_background": "light"
     },
     "output_type": "display_data"
    }
   ],
   "source": [
    "z = sp.symbols('z')\n",
    "sigma_symbol = sp.Function('sigma')\n",
    "\n",
    "def sigma_f(x):\n",
    "    return 1/(1+sp.exp(-x))\n",
    "\n",
    "print(\"Standard logistic function:\")\n",
    "display(sp.Eq(sigma_symbol(z), sigma_f(z)))\n",
    "\n",
    "# Plot sigma\n",
    "z_vals = np.linspace(-6, 6, 1000)\n",
    "sigma_vals = np.array([sigma_f(zi) for zi in z_vals])\n",
    "plt.plot(z_vals, sigma_vals)\n",
    "plt.xlabel(z)\n",
    "plt.ylabel('$\\sigma(z)$')\n",
    "plt.show()\n",
    "\n",
    "# Plot sigma_prime\n",
    "display(sigma_symbol(z).diff(z))\n",
    "sigma_prime = np.array([(sigma_vals[i+1]-sigma_vals[i])/(z_vals[i+1]-z_vals[i]) \n",
    "                        for i in range(len(z_vals)-1)])\n",
    "plt.plot(z_vals[:-1], sigma_prime)\n",
    "plt.xlabel(z)\n",
    "plt.ylabel(\"sigma prime\")\n",
    "plt.show()"
   ]
  },
  {
   "cell_type": "markdown",
   "metadata": {},
   "source": [
    "## (b.ii) tanh"
   ]
  },
  {
   "cell_type": "code",
   "execution_count": 29,
   "metadata": {},
   "outputs": [
    {
     "name": "stdout",
     "output_type": "stream",
     "text": [
      "Hyperbolic tangent:\n"
     ]
    },
    {
     "data": {
      "image/png": "[encoded data removed]",
      "text/latex": [
       "$\\displaystyle \\sigma{\\left(z \\right)} = \\tanh{\\left(z \\right)}$"
      ],
      "text/plain": [
       "σ(z) = tanh(z)"
      ]
     },
     "metadata": {},
     "output_type": "display_data"
    },
    {
     "data": {
      "image/png": "[encoded data removed]",
      "text/plain": [
       "<Figure size 432x288 with 1 Axes>"
      ]
     },
     "metadata": {
      "needs_background": "light"
     },
     "output_type": "display_data"
    },
    {
     "data": {
      "image/png": "[encoded data removed]",
      "text/latex": [
       "$\\displaystyle \\frac{d}{d z} \\sigma{\\left(z \\right)}$"
      ],
      "text/plain": [
       "d       \n",
       "──(σ(z))\n",
       "dz      "
      ]
     },
     "metadata": {},
     "output_type": "display_data"
    },
    {
     "data": {
      "image/png": "[encoded data removed]",
      "text/plain": [
       "<Figure size 432x288 with 1 Axes>"
      ]
     },
     "metadata": {
      "needs_background": "light"
     },
     "output_type": "display_data"
    }
   ],
   "source": [
    "z = sp.symbols('z')\n",
    "sigma_symbol = sp.Function('sigma')\n",
    "\n",
    "def sigma_f(x):\n",
    "    return sp.tanh(x)\n",
    "\n",
    "print(\"Hyperbolic tangent:\")\n",
    "display(sp.Eq(sigma_symbol(z), sigma_f(z)))\n",
    "\n",
    "# Plot sigma\n",
    "z_vals = np.linspace(-6, 6, 1000)\n",
    "sigma_vals = np.array([sigma_f(zi) for zi in z_vals])\n",
    "plt.plot(z_vals, sigma_vals)\n",
    "plt.xlabel(z)\n",
    "plt.ylabel('$\\sigma(z)$')\n",
    "plt.show()\n",
    "\n",
    "# Plot sigma_prime\n",
    "display(sigma_symbol(z).diff(z))\n",
    "sigma_prime = np.array([(sigma_vals[i+1]-sigma_vals[i])/(z_vals[i+1]-z_vals[i]) \n",
    "                        for i in range(len(z_vals)-1)])\n",
    "plt.plot(z_vals[:-1], sigma_prime)\n",
    "plt.xlabel(z)\n",
    "plt.ylabel(\"sigma prime\")\n",
    "plt.show()"
   ]
  },
  {
   "cell_type": "markdown",
   "metadata": {},
   "source": [
    "## (b.iii) ReLU"
   ]
  },
  {
   "cell_type": "code",
   "execution_count": 30,
   "metadata": {
    "scrolled": false
   },
   "outputs": [
    {
     "name": "stdout",
     "output_type": "stream",
     "text": [
      "Rectified Linear Unit:\n"
     ]
    },
    {
     "data": {
      "image/png": "[encoded data removed]",
      "text/latex": [
       "$\\displaystyle \\sigma{\\left(z \\right)} = \\max\\left(0, z\\right)$"
      ],
      "text/plain": [
       "σ(z) = Max(0, z)"
      ]
     },
     "metadata": {},
     "output_type": "display_data"
    },
    {
     "data": {
      "image/png": "[encoded data removed]",
      "text/plain": [
       "<Figure size 432x288 with 1 Axes>"
      ]
     },
     "metadata": {
      "needs_background": "light"
     },
     "output_type": "display_data"
    },
    {
     "data": {
      "image/png": "[encoded data removed]",
      "text/latex": [
       "$\\displaystyle \\frac{d}{d z} \\sigma{\\left(z \\right)}$"
      ],
      "text/plain": [
       "d       \n",
       "──(σ(z))\n",
       "dz      "
      ]
     },
     "metadata": {},
     "output_type": "display_data"
    },
    {
     "data": {
      "image/png": "[encoded data removed]",
      "text/plain": [
       "<Figure size 432x288 with 1 Axes>"
      ]
     },
     "metadata": {
      "needs_background": "light"
     },
     "output_type": "display_data"
    }
   ],
   "source": [
    "z = sp.symbols('z')\n",
    "sigma_symbol = sp.Function('sigma')\n",
    "\n",
    "def sigma_f(x):\n",
    "    return sp.Max(0, x)\n",
    "\n",
    "print(\"Rectified Linear Unit:\")\n",
    "display(sp.Eq(sigma_symbol(z), sigma_f(z)))\n",
    "\n",
    "# Plot sigma\n",
    "z_vals = np.linspace(-6, 6, 1000)\n",
    "sigma_vals = np.array([sigma_f(zi) for zi in z_vals])\n",
    "plt.plot(z_vals, sigma_vals)\n",
    "plt.xlabel(z)\n",
    "plt.ylabel('$\\sigma(z)$')\n",
    "plt.show()\n",
    "\n",
    "# Plot sigma_prime\n",
    "display(sigma_symbol(z).diff(z))\n",
    "sigma_prime = np.array([(sigma_vals[i+1]-sigma_vals[i])/(z_vals[i+1]-z_vals[i]) \n",
    "                        for i in range(len(z_vals)-1)])\n",
    "plt.plot(z_vals[:-1], sigma_prime)\n",
    "plt.xlabel(z)\n",
    "plt.ylabel(\"sigma prime\")\n",
    "plt.show()"
   ]
  },
  {
   "cell_type": "markdown",
   "metadata": {},
   "source": [
    "## (c.i) Derivative of f with respect to x"
   ]
  },
  {
   "cell_type": "code",
   "execution_count": 31,
   "metadata": {},
   "outputs": [
    {
     "data": {
      "image/png": "[encoded data removed]",
      "text/latex": [
       "$\\displaystyle w \\left. \\frac{d}{d \\xi_{1}} f{\\left(\\xi_{1} \\right)} \\right|_{\\substack{ \\xi_{1}=b + w x }}$"
      ],
      "text/plain": [
       "  ⎛ d        ⎞│          \n",
       "w⋅⎜───(f(ξ₁))⎟│          \n",
       "  ⎝dξ₁       ⎠│ξ₁=b + w⋅x"
      ]
     },
     "metadata": {},
     "output_type": "display_data"
    }
   ],
   "source": [
    "f = sp.Function('f')\n",
    "w, x, b = sp.symbols('w x b')\n",
    "\n",
    "expr = f(w*x+b)\n",
    "display(sp.diff(expr, x))"
   ]
  },
  {
   "cell_type": "markdown",
   "metadata": {},
   "source": [
    "\\begin{align}\n",
    "f(wx+b) &= f(z) \\\\\n",
    "\\frac{df}{dx} &= \\frac{df}{dz}\\frac{dz}{dx}  \\\\\n",
    "&= \\frac{df}{dz}w\\\\\n",
    "\\end{align}\n"
   ]
  },
  {
   "cell_type": "markdown",
   "metadata": {},
   "source": [
    "## (c.ii) Derivative of f with respect to w"
   ]
  },
  {
   "cell_type": "code",
   "execution_count": 32,
   "metadata": {},
   "outputs": [
    {
     "data": {
      "image/png": "[encoded data removed]",
      "text/latex": [
       "$\\displaystyle x \\left. \\frac{d}{d \\xi_{1}} f{\\left(\\xi_{1} \\right)} \\right|_{\\substack{ \\xi_{1}=b + w x }}$"
      ],
      "text/plain": [
       "  ⎛ d        ⎞│          \n",
       "x⋅⎜───(f(ξ₁))⎟│          \n",
       "  ⎝dξ₁       ⎠│ξ₁=b + w⋅x"
      ]
     },
     "metadata": {},
     "output_type": "display_data"
    }
   ],
   "source": [
    "display(sp.diff(expr, w))"
   ]
  },
  {
   "cell_type": "markdown",
   "metadata": {},
   "source": [
    "\\begin{align}\n",
    "f(wx+b) &= f(z) \\\\\n",
    "\\frac{df}{dw} &= \\frac{df}{dz}\\frac{dz}{dw}  \\\\\n",
    "&= \\frac{df}{dz}x\\\\\n",
    "\\end{align}\n"
   ]
  },
  {
   "cell_type": "markdown",
   "metadata": {},
   "source": [
    "## (c.ii) Derivative of f with respect to b"
   ]
  },
  {
   "cell_type": "code",
   "execution_count": 33,
   "metadata": {},
   "outputs": [
    {
     "data": {
      "image/png": "[encoded data removed]",
      "text/latex": [
       "$\\displaystyle \\left. \\frac{d}{d \\xi_{1}} f{\\left(\\xi_{1} \\right)} \\right|_{\\substack{ \\xi_{1}=b + w x }}$"
      ],
      "text/plain": [
       "⎛ d        ⎞│          \n",
       "⎜───(f(ξ₁))⎟│          \n",
       "⎝dξ₁       ⎠│ξ₁=b + w⋅x"
      ]
     },
     "metadata": {},
     "output_type": "display_data"
    }
   ],
   "source": [
    "display(sp.diff(expr, b))"
   ]
  },
  {
   "cell_type": "markdown",
   "metadata": {},
   "source": [
    "\\begin{align}\n",
    "f(wx+b) &= f(z) \\\\\n",
    "\\frac{df}{db} &= \\frac{df}{dz}\\frac{dz}{db}  \\\\\n",
    "&= \\frac{df}{dz}\\\\\n",
    "\\end{align}\n"
   ]
  },
  {
   "cell_type": "code",
   "execution_count": null,
   "metadata": {},
   "outputs": [],
   "source": []
  }
 ],
 "metadata": {
  "anaconda-cloud": {},
  "kernelspec": {
   "display_name": "Python 3",
   "language": "python",
   "name": "python3"
  },
  "language_info": {
   "codemirror_mode": {
    "name": "ipython",
    "version": 3
   },
   "file_extension": ".py",
   "mimetype": "text/x-python",
   "name": "python",
   "nbconvert_exporter": "python",
   "pygments_lexer": "ipython3",
   "version": "3.7.3"
  },
  "toc": {
   "nav_menu": {},
   "number_sections": true,
   "sideBar": true,
   "skip_h1_title": false,
   "title_cell": "Table of Contents",
   "title_sidebar": "Contents",
   "toc_cell": false,
   "toc_position": {},
   "toc_section_display": true,
   "toc_window_display": false
  }
 },
 "nbformat": 4,
 "nbformat_minor": 2
}
